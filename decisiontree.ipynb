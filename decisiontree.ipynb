{
  "nbformat": 4,
  "nbformat_minor": 0,
  "metadata": {
    "colab": {
      "provenance": [],
      "toc_visible": true,
      "authorship_tag": "ABX9TyOsEfAKSWXWygjMpGVuMMnS",
      "include_colab_link": true
    },
    "kernelspec": {
      "name": "python3",
      "display_name": "Python 3"
    },
    "language_info": {
      "name": "python"
    }
  },
  "cells": [
    {
      "cell_type": "markdown",
      "metadata": {
        "id": "view-in-github",
        "colab_type": "text"
      },
      "source": [
        "<a href=\"https://colab.research.google.com/github/ashwin642/poisonous_mushroom_decision_tree/blob/main/decisiontree.ipynb\" target=\"_parent\"><img src=\"https://colab.research.google.com/assets/colab-badge.svg\" alt=\"Open In Colab\"/></a>"
      ]
    },
    {
      "cell_type": "code",
      "source": [
        "import pandas as pd\n",
        "import numpy as np\n",
        "import math\n",
        "\n",
        "col_names = ['Edibility', 'Cap Shape', 'Cap Surface', 'Cap Color', 'Bruises', 'Odor', 'Gill Attachment', 'Gill Spacing', 'Gill Size', 'Gill Color', 'Stalk Shape', 'Stalk root', 'Stalk Surface above ring', 'Stalk Surface below ring', 'Stalk color above ring', 'Stalk color below ring', 'Veil Type', 'Veil Color', 'Ring Number', 'Ring Type', 'Spore Print Color', 'Population', 'Habitat']\n",
        "df = pd.read_csv('agaricus-lepiota.data', names=col_names)\n",
        "\n",
        "def entropy(attribute):\n",
        "    entropy_val = 0\n",
        "    value_counts = attribute.value_counts()\n",
        "    total_count = len(attribute)\n",
        "    for count in value_counts:\n",
        "        probability = count / total_count\n",
        "        entropy_val += -probability * math.log2(probability)\n",
        "    return entropy_val\n",
        "\n",
        "def conditional_entropy(df, attribute, target_attribute):\n",
        "    attribute_values = df[attribute].unique()\n",
        "    target_entropy = entropy(df[target_attribute])\n",
        "    conditional_entropy_val = 0\n",
        "    for value in attribute_values:\n",
        "        subset = df[df[attribute] == value]\n",
        "        subset_entropy = entropy(subset[target_attribute])\n",
        "        probability = len(subset) / len(df)\n",
        "        conditional_entropy_val += probability * subset_entropy\n",
        "    return conditional_entropy_val\n",
        "\n",
        "def information_gain(df, attribute, target_attribute):\n",
        "    target_entropy = entropy(df[target_attribute])\n",
        "    conditional_entropy_val = conditional_entropy(df, attribute, target_attribute)\n",
        "    return target_entropy - conditional_entropy_val\n",
        "\n",
        "def split_dataset(df, attribute):\n",
        "    split_data = {}\n",
        "    attribute_values = df[attribute].unique()\n",
        "    for value in attribute_values:\n",
        "        subset = df[df[attribute] == value]\n",
        "        subset = subset.drop(columns=[attribute])\n",
        "        split_data[value] = subset\n",
        "    return split_data\n",
        "\n",
        "def create_decision_tree(df, target_attribute, attributes):\n",
        "    if len(attributes) == 0:\n",
        "        return df[target_attribute].mode()[0]\n",
        "    elif len(df[target_attribute].unique()) == 1:\n",
        "        return df[target_attribute].iloc[0]\n",
        "    else:\n",
        "        information_gains = []\n",
        "        for attribute in attributes:\n",
        "            info_gain = information_gain(df, attribute, target_attribute)\n",
        "            information_gains.append(info_gain)\n",
        "        max_info_gain_attribute = attributes[np.argmax(information_gains)]\n",
        "        tree = {max_info_gain_attribute: {}}\n",
        "        attributes.remove(max_info_gain_attribute)\n",
        "        split_data = split_dataset(df, max_info_gain_attribute)\n",
        "        for value, subset in split_data.items():\n",
        "            tree[max_info_gain_attribute][value] = create_decision_tree(subset, target_attribute, attributes.copy())\n",
        "        return tree\n",
        "\n",
        "# Example usage\n",
        "target_attribute = 'Edibility'\n",
        "attributes = col_names[1:]  # Exclude the target attribute\n",
        "decision_tree = create_decision_tree(df, target_attribute, attributes)\n",
        "print(decision_tree)\n"
      ],
      "metadata": {
        "colab": {
          "base_uri": "https://localhost:8080/",
          "height": 418
        },
        "id": "u1yIIKwJyqIP",
        "outputId": "715c1c7a-5360-42bf-bdb5-097d7796b2af"
      },
      "execution_count": 3,
      "outputs": [
        {
          "output_type": "error",
          "ename": "FileNotFoundError",
          "evalue": "[Errno 2] No such file or directory: 'agaricus-lepiota.data'",
          "traceback": [
            "\u001b[0;31m---------------------------------------------------------------------------\u001b[0m",
            "\u001b[0;31mFileNotFoundError\u001b[0m                         Traceback (most recent call last)",
            "\u001b[0;32m/tmp/ipython-input-3522751966.py\u001b[0m in \u001b[0;36m<cell line: 0>\u001b[0;34m()\u001b[0m\n\u001b[1;32m      4\u001b[0m \u001b[0;34m\u001b[0m\u001b[0m\n\u001b[1;32m      5\u001b[0m \u001b[0mcol_names\u001b[0m \u001b[0;34m=\u001b[0m \u001b[0;34m[\u001b[0m\u001b[0;34m'Edibility'\u001b[0m\u001b[0;34m,\u001b[0m \u001b[0;34m'Cap Shape'\u001b[0m\u001b[0;34m,\u001b[0m \u001b[0;34m'Cap Surface'\u001b[0m\u001b[0;34m,\u001b[0m \u001b[0;34m'Cap Color'\u001b[0m\u001b[0;34m,\u001b[0m \u001b[0;34m'Bruises'\u001b[0m\u001b[0;34m,\u001b[0m \u001b[0;34m'Odor'\u001b[0m\u001b[0;34m,\u001b[0m \u001b[0;34m'Gill Attachment'\u001b[0m\u001b[0;34m,\u001b[0m \u001b[0;34m'Gill Spacing'\u001b[0m\u001b[0;34m,\u001b[0m \u001b[0;34m'Gill Size'\u001b[0m\u001b[0;34m,\u001b[0m \u001b[0;34m'Gill Color'\u001b[0m\u001b[0;34m,\u001b[0m \u001b[0;34m'Stalk Shape'\u001b[0m\u001b[0;34m,\u001b[0m \u001b[0;34m'Stalk root'\u001b[0m\u001b[0;34m,\u001b[0m \u001b[0;34m'Stalk Surface above ring'\u001b[0m\u001b[0;34m,\u001b[0m \u001b[0;34m'Stalk Surface below ring'\u001b[0m\u001b[0;34m,\u001b[0m \u001b[0;34m'Stalk color above ring'\u001b[0m\u001b[0;34m,\u001b[0m \u001b[0;34m'Stalk color below ring'\u001b[0m\u001b[0;34m,\u001b[0m \u001b[0;34m'Veil Type'\u001b[0m\u001b[0;34m,\u001b[0m \u001b[0;34m'Veil Color'\u001b[0m\u001b[0;34m,\u001b[0m \u001b[0;34m'Ring Number'\u001b[0m\u001b[0;34m,\u001b[0m \u001b[0;34m'Ring Type'\u001b[0m\u001b[0;34m,\u001b[0m \u001b[0;34m'Spore Print Color'\u001b[0m\u001b[0;34m,\u001b[0m \u001b[0;34m'Population'\u001b[0m\u001b[0;34m,\u001b[0m \u001b[0;34m'Habitat'\u001b[0m\u001b[0;34m]\u001b[0m\u001b[0;34m\u001b[0m\u001b[0;34m\u001b[0m\u001b[0m\n\u001b[0;32m----> 6\u001b[0;31m \u001b[0mdf\u001b[0m \u001b[0;34m=\u001b[0m \u001b[0mpd\u001b[0m\u001b[0;34m.\u001b[0m\u001b[0mread_csv\u001b[0m\u001b[0;34m(\u001b[0m\u001b[0;34m'agaricus-lepiota.data'\u001b[0m\u001b[0;34m,\u001b[0m \u001b[0mnames\u001b[0m\u001b[0;34m=\u001b[0m\u001b[0mcol_names\u001b[0m\u001b[0;34m)\u001b[0m\u001b[0;34m\u001b[0m\u001b[0;34m\u001b[0m\u001b[0m\n\u001b[0m\u001b[1;32m      7\u001b[0m \u001b[0;34m\u001b[0m\u001b[0m\n\u001b[1;32m      8\u001b[0m \u001b[0;32mdef\u001b[0m \u001b[0mentropy\u001b[0m\u001b[0;34m(\u001b[0m\u001b[0mattribute\u001b[0m\u001b[0;34m)\u001b[0m\u001b[0;34m:\u001b[0m\u001b[0;34m\u001b[0m\u001b[0;34m\u001b[0m\u001b[0m\n",
            "\u001b[0;32m/usr/local/lib/python3.12/dist-packages/pandas/io/parsers/readers.py\u001b[0m in \u001b[0;36mread_csv\u001b[0;34m(filepath_or_buffer, sep, delimiter, header, names, index_col, usecols, dtype, engine, converters, true_values, false_values, skipinitialspace, skiprows, skipfooter, nrows, na_values, keep_default_na, na_filter, verbose, skip_blank_lines, parse_dates, infer_datetime_format, keep_date_col, date_parser, date_format, dayfirst, cache_dates, iterator, chunksize, compression, thousands, decimal, lineterminator, quotechar, quoting, doublequote, escapechar, comment, encoding, encoding_errors, dialect, on_bad_lines, delim_whitespace, low_memory, memory_map, float_precision, storage_options, dtype_backend)\u001b[0m\n\u001b[1;32m   1024\u001b[0m     \u001b[0mkwds\u001b[0m\u001b[0;34m.\u001b[0m\u001b[0mupdate\u001b[0m\u001b[0;34m(\u001b[0m\u001b[0mkwds_defaults\u001b[0m\u001b[0;34m)\u001b[0m\u001b[0;34m\u001b[0m\u001b[0;34m\u001b[0m\u001b[0m\n\u001b[1;32m   1025\u001b[0m \u001b[0;34m\u001b[0m\u001b[0m\n\u001b[0;32m-> 1026\u001b[0;31m     \u001b[0;32mreturn\u001b[0m \u001b[0m_read\u001b[0m\u001b[0;34m(\u001b[0m\u001b[0mfilepath_or_buffer\u001b[0m\u001b[0;34m,\u001b[0m \u001b[0mkwds\u001b[0m\u001b[0;34m)\u001b[0m\u001b[0;34m\u001b[0m\u001b[0;34m\u001b[0m\u001b[0m\n\u001b[0m\u001b[1;32m   1027\u001b[0m \u001b[0;34m\u001b[0m\u001b[0m\n\u001b[1;32m   1028\u001b[0m \u001b[0;34m\u001b[0m\u001b[0m\n",
            "\u001b[0;32m/usr/local/lib/python3.12/dist-packages/pandas/io/parsers/readers.py\u001b[0m in \u001b[0;36m_read\u001b[0;34m(filepath_or_buffer, kwds)\u001b[0m\n\u001b[1;32m    618\u001b[0m \u001b[0;34m\u001b[0m\u001b[0m\n\u001b[1;32m    619\u001b[0m     \u001b[0;31m# Create the parser.\u001b[0m\u001b[0;34m\u001b[0m\u001b[0;34m\u001b[0m\u001b[0m\n\u001b[0;32m--> 620\u001b[0;31m     \u001b[0mparser\u001b[0m \u001b[0;34m=\u001b[0m \u001b[0mTextFileReader\u001b[0m\u001b[0;34m(\u001b[0m\u001b[0mfilepath_or_buffer\u001b[0m\u001b[0;34m,\u001b[0m \u001b[0;34m**\u001b[0m\u001b[0mkwds\u001b[0m\u001b[0;34m)\u001b[0m\u001b[0;34m\u001b[0m\u001b[0;34m\u001b[0m\u001b[0m\n\u001b[0m\u001b[1;32m    621\u001b[0m \u001b[0;34m\u001b[0m\u001b[0m\n\u001b[1;32m    622\u001b[0m     \u001b[0;32mif\u001b[0m \u001b[0mchunksize\u001b[0m \u001b[0;32mor\u001b[0m \u001b[0miterator\u001b[0m\u001b[0;34m:\u001b[0m\u001b[0;34m\u001b[0m\u001b[0;34m\u001b[0m\u001b[0m\n",
            "\u001b[0;32m/usr/local/lib/python3.12/dist-packages/pandas/io/parsers/readers.py\u001b[0m in \u001b[0;36m__init__\u001b[0;34m(self, f, engine, **kwds)\u001b[0m\n\u001b[1;32m   1618\u001b[0m \u001b[0;34m\u001b[0m\u001b[0m\n\u001b[1;32m   1619\u001b[0m         \u001b[0mself\u001b[0m\u001b[0;34m.\u001b[0m\u001b[0mhandles\u001b[0m\u001b[0;34m:\u001b[0m \u001b[0mIOHandles\u001b[0m \u001b[0;34m|\u001b[0m \u001b[0;32mNone\u001b[0m \u001b[0;34m=\u001b[0m \u001b[0;32mNone\u001b[0m\u001b[0;34m\u001b[0m\u001b[0;34m\u001b[0m\u001b[0m\n\u001b[0;32m-> 1620\u001b[0;31m         \u001b[0mself\u001b[0m\u001b[0;34m.\u001b[0m\u001b[0m_engine\u001b[0m \u001b[0;34m=\u001b[0m \u001b[0mself\u001b[0m\u001b[0;34m.\u001b[0m\u001b[0m_make_engine\u001b[0m\u001b[0;34m(\u001b[0m\u001b[0mf\u001b[0m\u001b[0;34m,\u001b[0m \u001b[0mself\u001b[0m\u001b[0;34m.\u001b[0m\u001b[0mengine\u001b[0m\u001b[0;34m)\u001b[0m\u001b[0;34m\u001b[0m\u001b[0;34m\u001b[0m\u001b[0m\n\u001b[0m\u001b[1;32m   1621\u001b[0m \u001b[0;34m\u001b[0m\u001b[0m\n\u001b[1;32m   1622\u001b[0m     \u001b[0;32mdef\u001b[0m \u001b[0mclose\u001b[0m\u001b[0;34m(\u001b[0m\u001b[0mself\u001b[0m\u001b[0;34m)\u001b[0m \u001b[0;34m->\u001b[0m \u001b[0;32mNone\u001b[0m\u001b[0;34m:\u001b[0m\u001b[0;34m\u001b[0m\u001b[0;34m\u001b[0m\u001b[0m\n",
            "\u001b[0;32m/usr/local/lib/python3.12/dist-packages/pandas/io/parsers/readers.py\u001b[0m in \u001b[0;36m_make_engine\u001b[0;34m(self, f, engine)\u001b[0m\n\u001b[1;32m   1878\u001b[0m                 \u001b[0;32mif\u001b[0m \u001b[0;34m\"b\"\u001b[0m \u001b[0;32mnot\u001b[0m \u001b[0;32min\u001b[0m \u001b[0mmode\u001b[0m\u001b[0;34m:\u001b[0m\u001b[0;34m\u001b[0m\u001b[0;34m\u001b[0m\u001b[0m\n\u001b[1;32m   1879\u001b[0m                     \u001b[0mmode\u001b[0m \u001b[0;34m+=\u001b[0m \u001b[0;34m\"b\"\u001b[0m\u001b[0;34m\u001b[0m\u001b[0;34m\u001b[0m\u001b[0m\n\u001b[0;32m-> 1880\u001b[0;31m             self.handles = get_handle(\n\u001b[0m\u001b[1;32m   1881\u001b[0m                 \u001b[0mf\u001b[0m\u001b[0;34m,\u001b[0m\u001b[0;34m\u001b[0m\u001b[0;34m\u001b[0m\u001b[0m\n\u001b[1;32m   1882\u001b[0m                 \u001b[0mmode\u001b[0m\u001b[0;34m,\u001b[0m\u001b[0;34m\u001b[0m\u001b[0;34m\u001b[0m\u001b[0m\n",
            "\u001b[0;32m/usr/local/lib/python3.12/dist-packages/pandas/io/common.py\u001b[0m in \u001b[0;36mget_handle\u001b[0;34m(path_or_buf, mode, encoding, compression, memory_map, is_text, errors, storage_options)\u001b[0m\n\u001b[1;32m    871\u001b[0m         \u001b[0;32mif\u001b[0m \u001b[0mioargs\u001b[0m\u001b[0;34m.\u001b[0m\u001b[0mencoding\u001b[0m \u001b[0;32mand\u001b[0m \u001b[0;34m\"b\"\u001b[0m \u001b[0;32mnot\u001b[0m \u001b[0;32min\u001b[0m \u001b[0mioargs\u001b[0m\u001b[0;34m.\u001b[0m\u001b[0mmode\u001b[0m\u001b[0;34m:\u001b[0m\u001b[0;34m\u001b[0m\u001b[0;34m\u001b[0m\u001b[0m\n\u001b[1;32m    872\u001b[0m             \u001b[0;31m# Encoding\u001b[0m\u001b[0;34m\u001b[0m\u001b[0;34m\u001b[0m\u001b[0m\n\u001b[0;32m--> 873\u001b[0;31m             handle = open(\n\u001b[0m\u001b[1;32m    874\u001b[0m                 \u001b[0mhandle\u001b[0m\u001b[0;34m,\u001b[0m\u001b[0;34m\u001b[0m\u001b[0;34m\u001b[0m\u001b[0m\n\u001b[1;32m    875\u001b[0m                 \u001b[0mioargs\u001b[0m\u001b[0;34m.\u001b[0m\u001b[0mmode\u001b[0m\u001b[0;34m,\u001b[0m\u001b[0;34m\u001b[0m\u001b[0;34m\u001b[0m\u001b[0m\n",
            "\u001b[0;31mFileNotFoundError\u001b[0m: [Errno 2] No such file or directory: 'agaricus-lepiota.data'"
          ]
        }
      ]
    },
    {
      "cell_type": "code",
      "source": [
        "# Pretty-print the decision tree\n",
        "def print_decision_tree(tree, indent=''):\n",
        "    for attribute, subtree in tree.items():\n",
        "        if isinstance(subtree, dict):\n",
        "            print(indent + attribute + ':')\n",
        "            print_decision_tree(subtree, indent + '  ')\n",
        "        else:\n",
        "            print(indent + attribute + ':', subtree)\n",
        "\n",
        "print_decision_tree(decision_tree)"
      ],
      "metadata": {
        "id": "e6vQi01Zysu5"
      },
      "execution_count": null,
      "outputs": []
    }
  ]
}