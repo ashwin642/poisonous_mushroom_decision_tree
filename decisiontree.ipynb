{
  "nbformat": 4,
  "nbformat_minor": 0,
  "metadata": {
    "colab": {
      "provenance": [],
      "authorship_tag": "ABX9TyOsEfAKSWXWygjMpGVuMMnS",
      "include_colab_link": true
    },
    "kernelspec": {
      "name": "python3",
      "display_name": "Python 3"
    },
    "language_info": {
      "name": "python"
    }
  },
  "cells": [
    {
      "cell_type": "markdown",
      "metadata": {
        "id": "view-in-github",
        "colab_type": "text"
      },
      "source": [
        "<a href=\"https://colab.research.google.com/github/ashwin642/poisonous_mushroom_decision_tree/blob/main/decisiontree.ipynb\" target=\"_parent\"><img src=\"https://colab.research.google.com/assets/colab-badge.svg\" alt=\"Open In Colab\"/></a>"
      ]
    },
    {
      "cell_type": "code",
      "source": [
        "import pandas as pd\n",
        "import numpy as np\n",
        "import math\n",
        "\n",
        "col_names = ['Edibility', 'Cap Shape', 'Cap Surface', 'Cap Color', 'Bruises', 'Odor', 'Gill Attachment', 'Gill Spacing', 'Gill Size', 'Gill Color', 'Stalk Shape', 'Stalk root', 'Stalk Surface above ring', 'Stalk Surface below ring', 'Stalk color above ring', 'Stalk color below ring', 'Veil Type', 'Veil Color', 'Ring Number', 'Ring Type', 'Spore Print Color', 'Population', 'Habitat']\n",
        "df = pd.read_csv('agaricus-lepiota.data', names=col_names)\n",
        "\n",
        "def entropy(attribute):\n",
        "    entropy_val = 0\n",
        "    value_counts = attribute.value_counts()\n",
        "    total_count = len(attribute)\n",
        "    for count in value_counts:\n",
        "        probability = count / total_count\n",
        "        entropy_val += -probability * math.log2(probability)\n",
        "    return entropy_val\n",
        "\n",
        "def conditional_entropy(df, attribute, target_attribute):\n",
        "    attribute_values = df[attribute].unique()\n",
        "    target_entropy = entropy(df[target_attribute])\n",
        "    conditional_entropy_val = 0\n",
        "    for value in attribute_values:\n",
        "        subset = df[df[attribute] == value]\n",
        "        subset_entropy = entropy(subset[target_attribute])\n",
        "        probability = len(subset) / len(df)\n",
        "        conditional_entropy_val += probability * subset_entropy\n",
        "    return conditional_entropy_val\n",
        "\n",
        "def information_gain(df, attribute, target_attribute):\n",
        "    target_entropy = entropy(df[target_attribute])\n",
        "    conditional_entropy_val = conditional_entropy(df, attribute, target_attribute)\n",
        "    return target_entropy - conditional_entropy_val\n",
        "\n",
        "def split_dataset(df, attribute):\n",
        "    split_data = {}\n",
        "    attribute_values = df[attribute].unique()\n",
        "    for value in attribute_values:\n",
        "        subset = df[df[attribute] == value]\n",
        "        subset = subset.drop(columns=[attribute])\n",
        "        split_data[value] = subset\n",
        "    return split_data\n",
        "\n",
        "def create_decision_tree(df, target_attribute, attributes):\n",
        "    if len(attributes) == 0:\n",
        "        return df[target_attribute].mode()[0]\n",
        "    elif len(df[target_attribute].unique()) == 1:\n",
        "        return df[target_attribute].iloc[0]\n",
        "    else:\n",
        "        information_gains = []\n",
        "        for attribute in attributes:\n",
        "            info_gain = information_gain(df, attribute, target_attribute)\n",
        "            information_gains.append(info_gain)\n",
        "        max_info_gain_attribute = attributes[np.argmax(information_gains)]\n",
        "        tree = {max_info_gain_attribute: {}}\n",
        "        attributes.remove(max_info_gain_attribute)\n",
        "        split_data = split_dataset(df, max_info_gain_attribute)\n",
        "        for value, subset in split_data.items():\n",
        "            tree[max_info_gain_attribute][value] = create_decision_tree(subset, target_attribute, attributes.copy())\n",
        "        return tree\n",
        "\n",
        "# Example usage\n",
        "target_attribute = 'Edibility'\n",
        "attributes = col_names[1:]  # Exclude the target attribute\n",
        "decision_tree = create_decision_tree(df, target_attribute, attributes)\n",
        "print(decision_tree)\n"
      ],
      "metadata": {
        "colab": {
          "base_uri": "https://localhost:8080/"
        },
        "id": "u1yIIKwJyqIP",
        "outputId": "0a1366bb-9e5d-47d0-9d49-0071927bc4af"
      },
      "execution_count": 6,
      "outputs": [
        {
          "output_type": "stream",
          "name": "stdout",
          "text": [
            "{'Odor': {'p': 'p', 'a': 'e', 'l': 'e', 'n': {'Spore Print Color': {'n': 'e', 'k': 'e', 'w': {'Habitat': {'w': 'e', 'l': {'Cap Color': {'c': 'e', 'n': 'e', 'w': 'p', 'y': 'p'}}, 'd': {'Gill Size': {'n': 'p', 'b': 'e'}}, 'g': 'e', 'p': 'e'}}, 'h': 'e', 'r': 'p', 'o': 'e', 'y': 'e', 'b': 'e'}}, 'f': 'p', 'c': 'p', 'y': 'p', 's': 'p', 'm': 'p'}}\n"
          ]
        }
      ]
    },
    {
      "cell_type": "code",
      "source": [
        "# Pretty-print the decision tree\n",
        "def print_decision_tree(tree, indent=''):\n",
        "    for attribute, subtree in tree.items():\n",
        "        if isinstance(subtree, dict):\n",
        "            print(indent + attribute + ':')\n",
        "            print_decision_tree(subtree, indent + '  ')\n",
        "        else:\n",
        "            print(indent + attribute + ':', subtree)\n",
        "\n",
        "print_decision_tree(decision_tree)"
      ],
      "metadata": {
        "id": "e6vQi01Zysu5",
        "colab": {
          "base_uri": "https://localhost:8080/"
        },
        "outputId": "9b61969b-7684-4e03-cb6b-4e79bbfd9447"
      },
      "execution_count": 7,
      "outputs": [
        {
          "output_type": "stream",
          "name": "stdout",
          "text": [
            "Odor:\n",
            "  p: p\n",
            "  a: e\n",
            "  l: e\n",
            "  n:\n",
            "    Spore Print Color:\n",
            "      n: e\n",
            "      k: e\n",
            "      w:\n",
            "        Habitat:\n",
            "          w: e\n",
            "          l:\n",
            "            Cap Color:\n",
            "              c: e\n",
            "              n: e\n",
            "              w: p\n",
            "              y: p\n",
            "          d:\n",
            "            Gill Size:\n",
            "              n: p\n",
            "              b: e\n",
            "          g: e\n",
            "          p: e\n",
            "      h: e\n",
            "      r: p\n",
            "      o: e\n",
            "      y: e\n",
            "      b: e\n",
            "  f: p\n",
            "  c: p\n",
            "  y: p\n",
            "  s: p\n",
            "  m: p\n"
          ]
        }
      ]
    }
  ]
}